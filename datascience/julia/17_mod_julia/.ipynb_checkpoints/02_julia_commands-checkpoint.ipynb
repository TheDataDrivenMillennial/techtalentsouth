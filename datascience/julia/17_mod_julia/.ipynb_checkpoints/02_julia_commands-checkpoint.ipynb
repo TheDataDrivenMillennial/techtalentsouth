{
 "cells": [
  {
   "cell_type": "markdown",
   "metadata": {},
   "source": [
    "Data Science Fundamentals: Python |\n",
    "[Table of Contents](../index.ipynb)\n",
    "- - - \n",
    "<!--NAVIGATION-->\n",
    "Module 17. [Overview](./00_julia_overview.ipynb) | [Getting Started](./01_julia_started.ipynb) | **[Commands](./02_julia_commands.ipynb)** | [Package: Gadfly](./03_julia_gadfly.ipynb)"
   ]
  },
  {
   "cell_type": "markdown",
   "metadata": {},
   "source": [
    "Hello World\n",
    "---"
   ]
  },
  {
   "cell_type": "code",
   "execution_count": 22,
   "metadata": {},
   "outputs": [
    {
     "name": "stdout",
     "output_type": "stream",
     "text": [
      "hello world\n"
     ]
    }
   ],
   "source": [
    "println(\"hello world\")"
   ]
  },
  {
   "cell_type": "markdown",
   "metadata": {},
   "source": [
    "# Commands"
   ]
  },
  {
   "cell_type": "markdown",
   "metadata": {},
   "source": [
    "Our approach is aimed at those who already have at least some knowledge of programming — perhaps experience with Python, MATLAB, R, C or similar\n",
    "\n",
    "In particular, we assume you have some familiarity with fundamental programming concepts such as\n",
    "\n",
    "- variables\n",
    "- loops\n",
    "- conditionals (if/else)"
   ]
  },
  {
   "cell_type": "markdown",
   "metadata": {},
   "source": [
    "Simple Functions\n",
    "---"
   ]
  },
  {
   "cell_type": "code",
   "execution_count": 24,
   "metadata": {},
   "outputs": [
    {
     "data": {
      "text/plain": [
       "sphere_vol (generic function with 1 method)"
      ]
     },
     "execution_count": 24,
     "metadata": {},
     "output_type": "execute_result"
    }
   ],
   "source": [
    "# function to calculate the volume of a sphere\n",
    "function sphere_vol(r)\n",
    "    # julia allows Unicode names (in UTF-8 encoding)\n",
    "    # so either \"pi\" or the symbol π can be used\n",
    "    return 4/3*pi*r^3\n",
    "end"
   ]
  },
  {
   "cell_type": "code",
   "execution_count": 25,
   "metadata": {},
   "outputs": [
    {
     "name": "stdout",
     "output_type": "stream",
     "text": [
      "volume = 113.097\n"
     ]
    }
   ],
   "source": [
    "vol = sphere_vol(3)\n",
    "# @printf allows number formatting but does not automatically append the \\n to statements, see below\n",
    "using Printf\n",
    "@printf \"volume = %0.3f\\n\" vol "
   ]
  },
  {
   "cell_type": "code",
   "execution_count": 26,
   "metadata": {},
   "outputs": [
    {
     "data": {
      "text/plain": [
       "quadratic2 (generic function with 1 method)"
      ]
     },
     "execution_count": 26,
     "metadata": {},
     "output_type": "execute_result"
    }
   ],
   "source": [
    "# functions can also be defined more succinctly\n",
    "quadratic(a, sqr_term, b) = (-b + sqr_term) / 2a\n",
    "\n",
    "# calculates x for 0 = a*x^2+b*x+c, arguments types can be defined in function definitions\n",
    "function quadratic2(a::Float64, b::Float64, c::Float64)\n",
    "    # unlike other languages 2a is equivalent to 2*a\n",
    "    # a^2 is used instead of a**2 or pow(a,2)\n",
    "    sqr_term = sqrt(b^2-4a*c)\n",
    "    r1 = quadratic(a, sqr_term, b)\n",
    "    r2 = quadratic(a, -sqr_term, b)\n",
    "    # multiple values can be returned from a function using tuples\n",
    "    # if the return keyword is omitted, the last term is returned\n",
    "    r1, r2\n",
    "end"
   ]
  },
  {
   "cell_type": "code",
   "execution_count": 27,
   "metadata": {},
   "outputs": [
    {
     "name": "stdout",
     "output_type": "stream",
     "text": [
      "result 1: 3.0\n"
     ]
    }
   ],
   "source": [
    "quad1, quad2 = quadratic2(2.0, -2.0, -12.0)\n",
    "println(\"result 1: \", quad1)"
   ]
  },
  {
   "cell_type": "code",
   "execution_count": 28,
   "metadata": {},
   "outputs": [
    {
     "name": "stdout",
     "output_type": "stream",
     "text": [
      "result 2: -2.0\n"
     ]
    }
   ],
   "source": [
    "println(\"result 2: \", quad2)"
   ]
  },
  {
   "cell_type": "markdown",
   "metadata": {},
   "source": [
    "String Basics \n",
    "---"
   ]
  },
  {
   "cell_type": "code",
   "execution_count": 29,
   "metadata": {},
   "outputs": [
    {
     "name": "stdout",
     "output_type": "stream",
     "text": [
      "The quick brown fox jumps over the lazy dog α,β,γ\n"
     ]
    }
   ],
   "source": [
    "# strings are defined with double quotes\n",
    "# like variables, strings can contain any unicode character\n",
    "s1 = \"The quick brown fox jumps over the lazy dog α,β,γ\"\n",
    "println(s1)"
   ]
  },
  {
   "cell_type": "code",
   "execution_count": 30,
   "metadata": {},
   "outputs": [
    {
     "name": "stdout",
     "output_type": "stream",
     "text": [
      "a\n"
     ]
    }
   ],
   "source": [
    "# chars are defined with single quotes\n",
    "c1 = 'a'\n",
    "println(c1)"
   ]
  },
  {
   "cell_type": "code",
   "execution_count": 31,
   "metadata": {},
   "outputs": [
    {
     "name": "stdout",
     "output_type": "stream",
     "text": [
      "a ascii value = 97\n"
     ]
    }
   ],
   "source": [
    "# the ascii value of a char can be found with Int():\n",
    "println(c1, \" ascii value = \", Int(c1))"
   ]
  },
  {
   "cell_type": "code",
   "execution_count": 32,
   "metadata": {},
   "outputs": [
    {
     "name": "stdout",
     "output_type": "stream",
     "text": [
      "Int('α') == 945\n"
     ]
    }
   ],
   "source": [
    "println(\"Int('α') == \", Int('α'))"
   ]
  },
  {
   "cell_type": "code",
   "execution_count": 34,
   "metadata": {},
   "outputs": [
    {
     "name": "stdout",
     "output_type": "stream",
     "text": [
      "THE QUICK BROWN FOX JUMPS OVER THE LAZY DOG Α,Β,Γ\n",
      "the quick brown fox jumps over the lazy dog α,β,γ\n",
      "'b'\n",
      "\"The quick \"\n",
      "\"dog α,β,γ\"\n",
      "welcome to julia.\n",
      "1 + 2 = 3\n",
      "this and that\n",
      "this and that\n"
     ]
    }
   ],
   "source": [
    "# strings can be converted to upper case or lower case:\n",
    "s1_caps = uppercase(s1)\n",
    "s1_lower = lowercase(s1)\n",
    "println(s1_caps, \"\\n\", s1_lower)\n",
    "\n",
    "# sub strings can be indexed like arrays:\n",
    "# (show prints the raw value)\n",
    "show(s1[11]); println()\n",
    "\n",
    "\n",
    "# or sub strings can be created:\n",
    "show(s1[1:10]); println()\n",
    "\n",
    "\n",
    "# end is used for the end of the array or string\n",
    "show(s1[end-10:end]); println()\n",
    "\n",
    "\n",
    "# julia allows string Interpolation:\n",
    "a = \"welcome\"\n",
    "b = \"julia\"\n",
    "println(\"$a to $b.\")\n",
    "\n",
    "\n",
    "# this can extend to evaluate statements:\n",
    "println(\"1 + 2 = $(1 + 2)\")\n",
    "\n",
    "\n",
    "# strings can also be concatenated using the * operator\n",
    "# using * instead of + isn't intuitive when you start with Julia,\n",
    "# however people think it makes more sense\n",
    "s2 = \"this\" * \" and\" * \" that\"\n",
    "println(s2)\n",
    "\n",
    "\n",
    "# as well as the string function\n",
    "s3 = string(\"this\", \" and\", \" that\")\n",
    "println(s3)\n",
    "#> this and that\n"
   ]
  },
  {
   "cell_type": "markdown",
   "metadata": {},
   "source": [
    "Example: Plotting a White Noise Process\n",
    "---\n",
    "\n",
    "To begin, let’s suppose that we want to simulate and plot the white noise process ε0,ε1,…,εTε0,ε1,…,εT, where each draw εtεt is independent standard normal\n",
    "\n",
    "In other words, we want to generate figures that look something like this:"
   ]
  },
  {
   "cell_type": "markdown",
   "metadata": {},
   "source": [
    "![caption](files/test_program_1.png)"
   ]
  },
  {
   "cell_type": "code",
   "execution_count": 1,
   "metadata": {},
   "outputs": [
    {
     "data": {
      "image/png": "[encoded data removed]",
      "text/plain": [
       "Figure(PyObject <Figure size 640x480 with 1 Axes>)"
      ]
     },
     "metadata": {},
     "output_type": "display_data"
    },
    {
     "data": {
      "text/plain": [
       "1-element Array{PyCall.PyObject,1}:\n",
       " PyObject <matplotlib.lines.Line2D object at 0x7fb7adb0b410>"
      ]
     },
     "execution_count": 1,
     "metadata": {},
     "output_type": "execute_result"
    }
   ],
   "source": [
    "using PyPlot\n",
    "ts_length = 100\n",
    "epsilon_values = randn(ts_length)\n",
    "plot(epsilon_values, \"b-\")"
   ]
  },
  {
   "cell_type": "markdown",
   "metadata": {},
   "source": [
    "In brief,\n",
    "\n",
    "using PyPlot makes the functionality in PyPlot available for use\n",
    "\n",
    "In particular, it pulls the names exported by the PyPlot module into the global scope\n",
    "One of these is plot(), which in turn calls the plot function from Matplotlib\n",
    "randn() is a Julia function from the standard library for generating standard normals"
   ]
  },
  {
   "cell_type": "markdown",
   "metadata": {},
   "source": [
    "Importing Functions\n",
    "---\n",
    "\n",
    "The effect of the statement ```using PyPlot``` is to make all the names exported by the PyPlot module available in the global scope\n",
    "\n",
    "If you prefer to be more selective you can replace ```using PyPlot``` with ```import PyPlot: plot```\n",
    "\n",
    "Now only the plot function is accessible\n",
    "\n",
    "Since our program uses only the plot function from this module, either would have worked in the previous example"
   ]
  },
  {
   "cell_type": "markdown",
   "metadata": {},
   "source": [
    "Arrays\n",
    "---\n",
    "\n",
    "The function call epsilon_values = randn(ts_length) creates one of the most fundamental Julia data types: an array"
   ]
  },
  {
   "cell_type": "code",
   "execution_count": 35,
   "metadata": {},
   "outputs": [
    {
     "name": "stdout",
     "output_type": "stream",
     "text": [
      "3-element Array{Int64,1}: [1, 2, 3]\n",
      "0-element Array{Any,1}: Any[]\n",
      "0-element Array{Int64,1}: Int64[]\n",
      "20-element UnitRange{Int64}: 1:20\n",
      "20-element Array{Int64,1}: [1, 2, 3, 4, 5, 6, 7, 8, 9, 10, 11, 12, 13, 14, 15, 16, 17, 18, 19, 20]\n",
      "10-element Array{Int64,1}: [2, 4, 8, 16, 32, 64, 128, 256, 512, 1024]\n",
      "0-element Array{Array{Int64,1},1}: Array{Int64,1}[]\n",
      "4-element Array{Int64,1}: [1, 2, 3, 4]\n",
      "1-element Array{Int64,1}: [1]\n",
      "1-element Array{Array{Int64,1},1}: [[1, 2, 3]]\n",
      "8-element Array{Int64,1}: [1, 1, 2, 2, 3, 3, 4, 4]\n",
      "8-element Array{Int64,1}: [4, 3, 2, 1, 4, 3, 2, 1]\n"
     ]
    }
   ],
   "source": [
    "function printsum(a)\n",
    "    # summary generates a summary of an object\n",
    "    println(summary(a), \": \", repr(a))\n",
    "end\n",
    "\n",
    "# arrays can be initialised directly:\n",
    "a1 = [1,2,3]\n",
    "printsum(a1)\n",
    "\n",
    "\n",
    "# or initialised empty:\n",
    "a2 = []\n",
    "printsum(a2)\n",
    "\n",
    "\n",
    "# since this array has no type, functions like push! (see below) don't work\n",
    "# instead arrays can be initialised with a type:\n",
    "a3 = Int64[]\n",
    "printsum(a3)\n",
    "\n",
    "\n",
    "# ranges are different from arrays:\n",
    "a4 = 1:20\n",
    "printsum(a4)\n",
    "\n",
    "\n",
    "# however they can be used to create arrays thus:\n",
    "a4 = collect(1:20)\n",
    "printsum(a4)\n",
    "\n",
    "\n",
    "# arrays can also be generated from comprehensions:\n",
    "a5 = [2^i for i = 1:10]\n",
    "printsum(a5)\n",
    "\n",
    "\n",
    "# arrays can be any type, so arrays of arrays can be created:\n",
    "a6 = (Array{Int64, 1})[]\n",
    "printsum(a6)\n",
    "\n",
    "\n",
    "# (note this is a \"jagged array\" (i.e., an array of arrays), not a multidimensional array,\n",
    "# these are not covered here)\n",
    "\n",
    "# Julia provided a number of \"Dequeue\" functions, the most common\n",
    "# for appending to the end of arrays is push!\n",
    "# ! at the end of a function name indicates that the first argument is updated.\n",
    "\n",
    "push!(a1, 4)\n",
    "printsum(a1)\n",
    "\n",
    "\n",
    "# push!(a2, 1) would cause error:\n",
    "\n",
    "push!(a3, 1)\n",
    "printsum(a3) #> 1-element Array{Int64,1}: [1]\n",
    "\n",
    "\n",
    "push!(a6, [1,2,3])\n",
    "printsum(a6)\n",
    "\n",
    "\n",
    "# using repeat() to create arrays\n",
    "# you must use the keywords \"inner\" and \"outer\"\n",
    "# all arguments must be arrays (not ranges)\n",
    "a7 = repeat(a1,inner=[2],outer=[1])\n",
    "printsum(a7)\n",
    "\n",
    "a8 = repeat(collect(4:-1:1),inner=[1],outer=[2])\n",
    "printsum(a8)\n"
   ]
  },
  {
   "cell_type": "markdown",
   "metadata": {},
   "source": [
    "The information from typeof() tells us that epsilon_values is an array of 64 bit floating point values, of dimension 1\n",
    "\n",
    "Julia arrays are quite flexible — they can store heterogeneous data for example"
   ]
  },
  {
   "cell_type": "code",
   "execution_count": 4,
   "metadata": {},
   "outputs": [
    {
     "data": {
      "text/plain": [
       "3-element Array{Any,1}:\n",
       "    10\n",
       "      \"foo\"\n",
       " false"
      ]
     },
     "execution_count": 4,
     "metadata": {},
     "output_type": "execute_result"
    }
   ],
   "source": [
    "x = [10, \"foo\", false]"
   ]
  },
  {
   "cell_type": "markdown",
   "metadata": {},
   "source": [
    "Notice now that the data type is recorded as Any, since the array contains mixed data\n",
    "\n",
    "The first element of x is an integer"
   ]
  },
  {
   "cell_type": "code",
   "execution_count": 5,
   "metadata": {},
   "outputs": [
    {
     "data": {
      "text/plain": [
       "Int64"
      ]
     },
     "execution_count": 5,
     "metadata": {},
     "output_type": "execute_result"
    }
   ],
   "source": [
    "typeof(x[1])"
   ]
  },
  {
   "cell_type": "markdown",
   "metadata": {},
   "source": [
    "The second is a string"
   ]
  },
  {
   "cell_type": "code",
   "execution_count": 6,
   "metadata": {},
   "outputs": [
    {
     "data": {
      "text/plain": [
       "String"
      ]
     },
     "execution_count": 6,
     "metadata": {},
     "output_type": "execute_result"
    }
   ],
   "source": [
    "typeof(x[2])"
   ]
  },
  {
   "cell_type": "markdown",
   "metadata": {},
   "source": [
    "The third is the boolean value false"
   ]
  },
  {
   "cell_type": "code",
   "execution_count": 7,
   "metadata": {},
   "outputs": [
    {
     "data": {
      "text/plain": [
       "Bool"
      ]
     },
     "execution_count": 7,
     "metadata": {},
     "output_type": "execute_result"
    }
   ],
   "source": [
    "typeof(x[3])"
   ]
  },
  {
   "cell_type": "markdown",
   "metadata": {},
   "source": [
    "Notice from the above that\n",
    "\n",
    "- array indices start at 1 (unlike Python, where arrays are zero-based)\n",
    "- array elements are referenced using square brackets (unlike MATLAB and Fortran)\n",
    "- Julia contains many functions for acting on arrays — we’ll review them later\n",
    "\n",
    "For now here’s several examples, applied to the same list x = [10, \"foo\", false]"
   ]
  },
  {
   "cell_type": "raw",
   "metadata": {},
   "source": [
    "julia> length(x)\n",
    "3\n",
    "\n",
    "julia> pop!(x)\n",
    "false\n",
    "\n",
    "julia> x\n",
    "2-element Array{Any,1}:\n",
    " 10\n",
    " \"foo\"\n",
    "\n",
    "julia> push!(x, \"bar\")\n",
    "3-element Array{Any,1}:\n",
    " 10\n",
    " \"foo\"\n",
    " \"bar\"\n",
    "\n",
    "julia> x\n",
    "3-element Array{Any,1}:\n",
    " 10\n",
    " \"foo\"\n",
    " \"bar\""
   ]
  },
  {
   "cell_type": "markdown",
   "metadata": {},
   "source": [
    "The first example just returns the length of the list\n",
    "\n",
    "The second, pop!(), pops the last element off the list and returns it\n",
    "\n",
    "In doing so it changes the list (by dropping the last element)\n",
    "\n",
    "Because of this we call pop! a mutating method\n",
    "\n",
    "It’s conventional in Julia that mutating methods end in ! to remind the user that the function has other effects beyond just returning a value\n",
    "\n",
    "The function push!() is similar, expect that it appends its second argument to the array"
   ]
  },
  {
   "cell_type": "markdown",
   "metadata": {},
   "source": [
    "For Loops\n",
    "---\n",
    "\n",
    "Although there’s no need in terms of what we wanted to achieve with our program, for the sake of learning syntax let’s rewrite our program to use a for loop"
   ]
  },
  {
   "cell_type": "code",
   "execution_count": 13,
   "metadata": {},
   "outputs": [
    {
     "name": "stdout",
     "output_type": "stream",
     "text": [
      "List Iteration\n",
      "geeks\n",
      "for\n",
      "geeks\n",
      "\n",
      "Tuple Iteration\n",
      "geeks\n",
      "for\n",
      "geeks\n",
      "\n",
      "String Iteration\n",
      "G\n",
      "e\n",
      "e\n",
      "k\n",
      "s\n"
     ]
    }
   ],
   "source": [
    "# Julia program to illustrate \n",
    "# the use of For loop \n",
    "\n",
    "print(\"List Iteration\\n\") \n",
    "l = [\"geeks\", \"for\", \"geeks\"] \n",
    "for i in l \n",
    "\tprintln(i) \n",
    "end \n",
    "\n",
    "# Iterating over a tuple (immutable) \n",
    "print(\"\\nTuple Iteration\\n\") \n",
    "t = (\"geeks\", \"for\", \"geeks\") \n",
    "for i in t \n",
    "\tprintln(i) \n",
    "end \n",
    "\n",
    "# Iterating over a String \n",
    "print(\"\\nString Iteration\\n\")\t \n",
    "s = \"Geeks\"\n",
    "for i in s \n",
    "\tprintln(i) \n",
    "end "
   ]
  },
  {
   "cell_type": "code",
   "execution_count": 14,
   "metadata": {},
   "outputs": [
    {
     "name": "stdout",
     "output_type": "stream",
     "text": [
      "1 \n",
      "2 2 \n",
      "3 3 3 \n",
      "4 4 4 4 \n",
      "5 5 5 5 5 \n"
     ]
    }
   ],
   "source": [
    "# Julia program to illustrate \n",
    "# the use of Nested For-Loops \n",
    "\n",
    "# Outer For-loop \n",
    "for i in 1:5\n",
    "\n",
    "\t# Inner For-loop \n",
    "\tfor j in 1:i \n",
    "\t\t\n",
    "\t\t# Print statement \n",
    "\t\tprint(i, \" \") \n",
    "\tend \n",
    "\tprintln() \n",
    "end \n"
   ]
  },
  {
   "cell_type": "markdown",
   "metadata": {},
   "source": [
    "Here we first declared ```epsilon_values``` to be an empty array for storing 64 bit floating point numbers\n",
    "\n",
    "The for loop then populates this array by successive calls to randn()\n",
    "\n",
    "Called without an argument, ```randn()``` returns a single float\n",
    "\n",
    "Like all code blocks in Julia, the end of the for loop code block (which is just one line here) is indicated by the keyword ```end```\n",
    "\n",
    "The word ```in``` from the for loop can be replaced by symbol ```=```\n",
    "\n",
    "The expression ```1:ts_length``` creates an iterator that is looped over — in this case the integers from 1 to ts_length\n",
    "\n",
    "Iterators are memory efficient because the elements are generated on the fly rather than stored in memory\n",
    "\n",
    "In Julia you can also loop directly over arrays themselves, like so"
   ]
  },
  {
   "cell_type": "code",
   "execution_count": 8,
   "metadata": {},
   "outputs": [
    {
     "name": "stdout",
     "output_type": "stream",
     "text": [
      "Hello foo\n",
      "Hello bar\n"
     ]
    }
   ],
   "source": [
    "words = [\"foo\", \"bar\"]\n",
    "for word in words\n",
    "    println(\"Hello $word\")\n",
    "end"
   ]
  },
  {
   "cell_type": "markdown",
   "metadata": {},
   "source": [
    "User-Defined Functions\n",
    "---\n",
    "\n",
    "For the sake of the exercise, let’s now go back to the for loop but restructure our program so that generation of random variables takes place within a user-defined function"
   ]
  },
  {
   "cell_type": "code",
   "execution_count": 15,
   "metadata": {},
   "outputs": [
    {
     "name": "stdout",
     "output_type": "stream",
     "text": [
      "this is a function\n"
     ]
    }
   ],
   "source": [
    "# Julia program to illustrate \n",
    "# the use of 'function' keyword \n",
    "\n",
    "# Defining a function \n",
    "function func() \n",
    "\tprintln(\"this is a function\") \n",
    "end \n",
    "\n",
    "# Function call \n",
    "func() "
   ]
  },
  {
   "cell_type": "markdown",
   "metadata": {},
   "source": [
    "Here\n",
    "\n",
    "- function is a Julia keyword that indicates the start of a function definition\n",
    "- func is an arbitrary name for the function"
   ]
  },
  {
   "cell_type": "markdown",
   "metadata": {},
   "source": [
    "Create a User-Defined Function to accept arguments. "
   ]
  },
  {
   "cell_type": "code",
   "execution_count": 21,
   "metadata": {},
   "outputs": [
    {
     "name": "stdout",
     "output_type": "stream",
     "text": [
      "18\n"
     ]
    }
   ],
   "source": [
    "# Defining a function with arguments \n",
    "function add_fn(x, y) \n",
    "\tprintln(x + y) \n",
    "end \n",
    "\n",
    "# Calling defined function \n",
    "add_fn(10, 8) "
   ]
  },
  {
   "cell_type": "markdown",
   "metadata": {},
   "source": [
    "More Useful Functions\n",
    "---\n",
    "\n",
    "Of course the function generate_data is completely contrived\n",
    "\n",
    "We could just write the following and be done"
   ]
  },
  {
   "cell_type": "code",
   "execution_count": 16,
   "metadata": {},
   "outputs": [
    {
     "data": {
      "image/png": "[encoded data removed]",
      "text/plain": [
       "Figure(PyObject <Figure size 640x480 with 1 Axes>)"
      ]
     },
     "metadata": {},
     "output_type": "display_data"
    },
    {
     "data": {
      "text/plain": [
       "1-element Array{PyCall.PyObject,1}:\n",
       " PyObject <matplotlib.lines.Line2D object at 0x7fb7ae9a1790>"
      ]
     },
     "execution_count": 16,
     "metadata": {},
     "output_type": "execute_result"
    }
   ],
   "source": [
    "ts_length = 100\n",
    "data = randn(ts_length)\n",
    "plot(data, \"b-\")"
   ]
  },
  {
   "cell_type": "markdown",
   "metadata": {},
   "source": [
    "This function will be passed a choice of probability distribution and respond by plotting a histogram of observations\n",
    "\n",
    "In doing so we’ll make use of the Distributions package"
   ]
  },
  {
   "cell_type": "code",
   "execution_count": 18,
   "metadata": {},
   "outputs": [],
   "source": [
    "using Pkg"
   ]
  },
  {
   "cell_type": "code",
   "execution_count": 19,
   "metadata": {},
   "outputs": [
    {
     "name": "stderr",
     "output_type": "stream",
     "text": [
      "\u001b[32m\u001b[1m   Updating\u001b[22m\u001b[39m registry at `~/.julia/registries/General`\n"
     ]
    },
    {
     "name": "stdout",
     "output_type": "stream",
     "text": [
      "\u001b[?25l    "
     ]
    },
    {
     "name": "stderr",
     "output_type": "stream",
     "text": [
      "\u001b[32m\u001b[1m   Updating\u001b[22m\u001b[39m git-repo `https://github.com/JuliaRegistries/General.git`\n"
     ]
    },
    {
     "name": "stdout",
     "output_type": "stream",
     "text": [
      "\u001b[36m\u001b[1mFetching:\u001b[22m\u001b[39m [>                                        ]  0.0 %\r",
      "    \u001b[36m\u001b[1mFetching:\u001b[22m\u001b[39m [===>                                     ]  6.7 %\r",
      "    \u001b[36m\u001b[1mFetching:\u001b[22m\u001b[39m [======>                                  ]  13.3 %\r",
      "    \u001b[36m\u001b[1mFetching:\u001b[22m\u001b[39m [========>                                ]  20.0 %\r",
      "    \u001b[36m\u001b[1mFetching:\u001b[22m\u001b[39m [===========>                             ]  26.7 %\r",
      "    \u001b[36m\u001b[1mFetching:\u001b[22m\u001b[39m [==============>                          ]  33.3 %\r",
      "    \u001b[36m\u001b[1mFetching:\u001b[22m\u001b[39m [================>                        ]  40.0 %\r",
      "    \u001b[36m\u001b[1mFetching:\u001b[22m\u001b[39m [===================>                     ]  46.7 %\r",
      "    \u001b[36m\u001b[1mFetching:\u001b[22m\u001b[39m [======================>                  ]  53.3 %\r",
      "    \u001b[36m\u001b[1mFetching:\u001b[22m\u001b[39m [========================>                ]  60.0 %\r",
      "    \u001b[36m\u001b[1mFetching:\u001b[22m\u001b[39m [===========================>             ]  66.7 %\r",
      "    \u001b[36m\u001b[1mFetching:\u001b[22m\u001b[39m [==============================>          ]  73.3 %\r",
      "    \u001b[36m\u001b[1mFetching:\u001b[22m\u001b[39m [================================>        ]  80.0 %\r",
      "    \u001b[36m\u001b[1mFetching:\u001b[22m\u001b[39m [===================================>     ]  86.7 %\r",
      "    \u001b[36m\u001b[1mFetching:\u001b[22m\u001b[39m [======================================>  ]  93.3 %\r",
      "    \u001b[36m\u001b[1mFetching:\u001b[22m\u001b[39m [========================================>]  100.0 %\r",
      "\u001b[2K\u001b[?25h"
     ]
    },
    {
     "name": "stderr",
     "output_type": "stream",
     "text": [
      "\u001b[32m\u001b[1m  Resolving\u001b[22m\u001b[39m package versions...\n",
      "\u001b[32m\u001b[1m   Updating\u001b[22m\u001b[39m `~/.julia/environments/v1.4/Project.toml`\n",
      " \u001b[90m [31c24e10]\u001b[39m\u001b[92m + Distributions v0.23.4\u001b[39m\n",
      "\u001b[32m\u001b[1m   Updating\u001b[22m\u001b[39m `~/.julia/environments/v1.4/Manifest.toml`\n",
      "\u001b[90m [no changes]\u001b[39m\n"
     ]
    }
   ],
   "source": [
    "Pkg.add(\"Distributions\")"
   ]
  },
  {
   "cell_type": "code",
   "execution_count": 20,
   "metadata": {},
   "outputs": [
    {
     "name": "stderr",
     "output_type": "stream",
     "text": [
      "┌ Info: Precompiling Distributions [31c24e10-a181-5473-b8eb-7969acd0382f]\n",
      "└ @ Base loading.jl:1260\n"
     ]
    },
    {
     "data": {
      "image/png": "[encoded data removed]",
      "text/plain": [
       "Figure(PyObject <Figure size 640x480 with 1 Axes>)"
      ]
     },
     "metadata": {},
     "output_type": "display_data"
    },
    {
     "name": "stderr",
     "output_type": "stream",
     "text": [
      "┌ Warning: `getindex(o::PyObject, s::Symbol)` is deprecated in favor of dot overloading (`getproperty`) so elements should now be accessed as e.g. `o.s` instead of `o[:s]`.\n",
      "│   caller = plot_histogram(::Laplace{Float64}, ::Int64) at In[20]:6\n",
      "└ @ Main ./In[20]:6\n"
     ]
    },
    {
     "data": {
      "text/plain": [
       "([4.0, 8.0, 11.0, 80.0, 239.0, 112.0, 33.0, 8.0, 2.0, 3.0], [-5.96335515254708, -4.693263474138988, -3.4231717957308954, -2.153080117322803, -0.8829884389147109, 0.3871032394933813, 1.6571949179014736, 2.927286596309565, 4.197378274717658, 5.467469953125751, 6.7375616315338425], PyCall.PyObject[PyObject <matplotlib.patches.Rectangle object at 0x7fb7ac7a8990>, PyObject <matplotlib.patches.Rectangle object at 0x7fb7ac780390>, PyObject <matplotlib.patches.Rectangle object at 0x7fb7ac7a8e10>, PyObject <matplotlib.patches.Rectangle object at 0x7fb7ac7a8e50>, PyObject <matplotlib.patches.Rectangle object at 0x7fb7ac7b6210>, PyObject <matplotlib.patches.Rectangle object at 0x7fb7ac7b6dd0>, PyObject <matplotlib.patches.Rectangle object at 0x7fb7ac7b6d50>, PyObject <matplotlib.patches.Rectangle object at 0x7fb7ac7b6d90>, PyObject <matplotlib.patches.Rectangle object at 0x7fb7ac7b6850>, PyObject <matplotlib.patches.Rectangle object at 0x7fb7ac7b65d0>])"
      ]
     },
     "execution_count": 20,
     "metadata": {},
     "output_type": "execute_result"
    }
   ],
   "source": [
    "using PyPlot\n",
    "using Distributions\n",
    "\n",
    "function plot_histogram(distribution, n)\n",
    "    epsilon_values = rand(distribution, n)  # n draws from distribution\n",
    "    plt[:hist](epsilon_values)\n",
    "end\n",
    "\n",
    "lp = Laplace()\n",
    "plot_histogram(lp, 500)"
   ]
  },
  {
   "cell_type": "markdown",
   "metadata": {},
   "source": [
    "First, lp = Laplace() creates an instance of a data type defined in the Distributions module that represents the Laplace distribution\n",
    "\n",
    "The name lp is bound to this object\n",
    "\n",
    "When we make the function call plot_histogram(lp, 500) the code in the body of the function plot_histogram is run with\n",
    "\n",
    "the name distribution bound to the same object as lp\n",
    "the name n bound to the integer 500"
   ]
  },
  {
   "cell_type": "markdown",
   "metadata": {},
   "source": [
    "How It Works\n",
    "---"
   ]
  },
  {
   "cell_type": "markdown",
   "metadata": {},
   "source": [
    "Consider the function call rand(distribution, n)\n",
    "\n",
    "This looks like something of a mystery\n",
    "\n",
    "The function rand() is defined in the base library such that rand(n) returns n uniform random variables on [0,1)"
   ]
  },
  {
   "cell_type": "code",
   "execution_count": 21,
   "metadata": {},
   "outputs": [
    {
     "data": {
      "text/plain": [
       "3-element Array{Float64,1}:\n",
       " 0.760911\n",
       " 0.480226\n",
       " 0.910422"
      ]
     },
     "execution_count": 21,
     "metadata": {},
     "output_type": "execute_result"
    }
   ],
   "source": [
    "rand(3)"
   ]
  },
  {
   "cell_type": "markdown",
   "metadata": {},
   "source": [
    "On the other hand, distribution points to a data type representing the Laplace distribution that has been defined in a third party package\n",
    "\n",
    "So how can it be that rand() is able to take this kind of object as an argument and return the output that we want?\n",
    "\n",
    "The answer in a nutshell is multiple dispatch\n",
    "\n",
    "This refers to the idea that functions in Julia can have different behavior depending on the particular arguments that they’re passed\n",
    "\n",
    "Hence in Julia we can take an existing function and give it a new behavior by defining how it acts on a new type of object\n",
    "\n",
    "The interpreter knows which function definition to apply in a given setting by looking at the types of the objects the function is called on\n",
    "\n",
    "In Julia these alternative versions of a function are called methods"
   ]
  },
  {
   "cell_type": "markdown",
   "metadata": {},
   "source": [
    "Dataframes\n",
    "---"
   ]
  },
  {
   "cell_type": "code",
   "execution_count": null,
   "metadata": {},
   "outputs": [],
   "source": [
    "using DataFrames\n",
    "showln(x) = (show(x); println())\n",
    "# TODO: needs more links to docs.\n",
    "\n",
    "# A DataFrame is an in-memory database\n",
    "df = DataFrame(A = [1, 2], B = [ℯ, π], C = [\"xx\", \"xy\"])\n",
    "showln(df)\n",
    "\n",
    "# The columns of a DataFrame can be indexed using numbers or names\n",
    "showln(df[!, 1])\n",
    "\n",
    "showln(df[!, :A])\n",
    "\n",
    "showln(df[!, 2])\n",
    "\n",
    "showln(df[!, :B])\n",
    "\n",
    "showln(df[!, 3])\n",
    "\n",
    "showln(df[!, :C])\n",
    "\n",
    "\n",
    "# The rows of a DataFrame can be indexed only by using numbers\n",
    "showln(df[1, :])\n",
    "\n",
    "showln(df[1:2, :])"
   ]
  },
  {
   "cell_type": "code",
   "execution_count": 37,
   "metadata": {},
   "outputs": [
    {
     "name": "stderr",
     "output_type": "stream",
     "text": [
      "\u001b[32m\u001b[1m  Resolving\u001b[22m\u001b[39m package versions...\n",
      "\u001b[32m\u001b[1m  Installed\u001b[22m\u001b[39m WeakRefStrings ─ v0.6.2\n",
      "\u001b[32m\u001b[1m  Installed\u001b[22m\u001b[39m FilePathsBase ── v0.8.0\n",
      "\u001b[32m\u001b[1m  Installed\u001b[22m\u001b[39m CSV ──────────── v0.6.2\n",
      "\u001b[32m\u001b[1m   Updating\u001b[22m\u001b[39m `~/.julia/environments/v1.4/Project.toml`\n",
      " \u001b[90m [336ed68f]\u001b[39m\u001b[92m + CSV v0.6.2\u001b[39m\n",
      "\u001b[32m\u001b[1m   Updating\u001b[22m\u001b[39m `~/.julia/environments/v1.4/Manifest.toml`\n",
      " \u001b[90m [336ed68f]\u001b[39m\u001b[92m + CSV v0.6.2\u001b[39m\n",
      " \u001b[90m [48062228]\u001b[39m\u001b[92m + FilePathsBase v0.8.0\u001b[39m\n",
      " \u001b[90m [ea10d353]\u001b[39m\u001b[92m + WeakRefStrings v0.6.2\u001b[39m\n"
     ]
    }
   ],
   "source": [
    "import Pkg; Pkg.add(\"CSV\")"
   ]
  },
  {
   "cell_type": "markdown",
   "metadata": {},
   "source": [
    "Importing Dataframes\n",
    "---"
   ]
  },
  {
   "cell_type": "code",
   "execution_count": 39,
   "metadata": {},
   "outputs": [
    {
     "data": {
      "text/html": [
       "<table class=\"data-frame\"><thead><tr><th></th><th>sepallength</th><th>sepalwidth</th><th>petallength</th><th>petalwidth</th><th>class</th></tr><tr><th></th><th>Float64</th><th>Float64</th><th>Float64</th><th>Float64</th><th>String</th></tr></thead><tbody><p>150 rows × 5 columns</p><tr><th>1</th><td>5.1</td><td>3.5</td><td>1.4</td><td>0.2</td><td>Iris-setosa</td></tr><tr><th>2</th><td>4.9</td><td>3.0</td><td>1.4</td><td>0.2</td><td>Iris-setosa</td></tr><tr><th>3</th><td>4.7</td><td>3.2</td><td>1.3</td><td>0.2</td><td>Iris-setosa</td></tr><tr><th>4</th><td>4.6</td><td>3.1</td><td>1.5</td><td>0.2</td><td>Iris-setosa</td></tr><tr><th>5</th><td>5.0</td><td>3.6</td><td>1.4</td><td>0.2</td><td>Iris-setosa</td></tr><tr><th>6</th><td>5.4</td><td>3.9</td><td>1.7</td><td>0.4</td><td>Iris-setosa</td></tr><tr><th>7</th><td>4.6</td><td>3.4</td><td>1.4</td><td>0.3</td><td>Iris-setosa</td></tr><tr><th>8</th><td>5.0</td><td>3.4</td><td>1.5</td><td>0.2</td><td>Iris-setosa</td></tr><tr><th>9</th><td>4.4</td><td>2.9</td><td>1.4</td><td>0.2</td><td>Iris-setosa</td></tr><tr><th>10</th><td>4.9</td><td>3.1</td><td>1.5</td><td>0.1</td><td>Iris-setosa</td></tr><tr><th>11</th><td>5.4</td><td>3.7</td><td>1.5</td><td>0.2</td><td>Iris-setosa</td></tr><tr><th>12</th><td>4.8</td><td>3.4</td><td>1.6</td><td>0.2</td><td>Iris-setosa</td></tr><tr><th>13</th><td>4.8</td><td>3.0</td><td>1.4</td><td>0.1</td><td>Iris-setosa</td></tr><tr><th>14</th><td>4.3</td><td>3.0</td><td>1.1</td><td>0.1</td><td>Iris-setosa</td></tr><tr><th>15</th><td>5.8</td><td>4.0</td><td>1.2</td><td>0.2</td><td>Iris-setosa</td></tr><tr><th>16</th><td>5.7</td><td>4.4</td><td>1.5</td><td>0.4</td><td>Iris-setosa</td></tr><tr><th>17</th><td>5.4</td><td>3.9</td><td>1.3</td><td>0.4</td><td>Iris-setosa</td></tr><tr><th>18</th><td>5.1</td><td>3.5</td><td>1.4</td><td>0.3</td><td>Iris-setosa</td></tr><tr><th>19</th><td>5.7</td><td>3.8</td><td>1.7</td><td>0.3</td><td>Iris-setosa</td></tr><tr><th>20</th><td>5.1</td><td>3.8</td><td>1.5</td><td>0.3</td><td>Iris-setosa</td></tr><tr><th>21</th><td>5.4</td><td>3.4</td><td>1.7</td><td>0.2</td><td>Iris-setosa</td></tr><tr><th>22</th><td>5.1</td><td>3.7</td><td>1.5</td><td>0.4</td><td>Iris-setosa</td></tr><tr><th>23</th><td>4.6</td><td>3.6</td><td>1.0</td><td>0.2</td><td>Iris-setosa</td></tr><tr><th>24</th><td>5.1</td><td>3.3</td><td>1.7</td><td>0.5</td><td>Iris-setosa</td></tr><tr><th>25</th><td>4.8</td><td>3.4</td><td>1.9</td><td>0.2</td><td>Iris-setosa</td></tr><tr><th>26</th><td>5.0</td><td>3.0</td><td>1.6</td><td>0.2</td><td>Iris-setosa</td></tr><tr><th>27</th><td>5.0</td><td>3.4</td><td>1.6</td><td>0.4</td><td>Iris-setosa</td></tr><tr><th>28</th><td>5.2</td><td>3.5</td><td>1.5</td><td>0.2</td><td>Iris-setosa</td></tr><tr><th>29</th><td>5.2</td><td>3.4</td><td>1.4</td><td>0.2</td><td>Iris-setosa</td></tr><tr><th>30</th><td>4.7</td><td>3.2</td><td>1.6</td><td>0.2</td><td>Iris-setosa</td></tr><tr><th>&vellip;</th><td>&vellip;</td><td>&vellip;</td><td>&vellip;</td><td>&vellip;</td><td>&vellip;</td></tr></tbody></table>"
      ],
      "text/latex": [
       "\\begin{tabular}{r|ccccc}\n",
       "\t& sepallength & sepalwidth & petallength & petalwidth & class\\\\\n",
       "\t\\hline\n",
       "\t& Float64 & Float64 & Float64 & Float64 & String\\\\\n",
       "\t\\hline\n",
       "\t1 & 5.1 & 3.5 & 1.4 & 0.2 & Iris-setosa \\\\\n",
       "\t2 & 4.9 & 3.0 & 1.4 & 0.2 & Iris-setosa \\\\\n",
       "\t3 & 4.7 & 3.2 & 1.3 & 0.2 & Iris-setosa \\\\\n",
       "\t4 & 4.6 & 3.1 & 1.5 & 0.2 & Iris-setosa \\\\\n",
       "\t5 & 5.0 & 3.6 & 1.4 & 0.2 & Iris-setosa \\\\\n",
       "\t6 & 5.4 & 3.9 & 1.7 & 0.4 & Iris-setosa \\\\\n",
       "\t7 & 4.6 & 3.4 & 1.4 & 0.3 & Iris-setosa \\\\\n",
       "\t8 & 5.0 & 3.4 & 1.5 & 0.2 & Iris-setosa \\\\\n",
       "\t9 & 4.4 & 2.9 & 1.4 & 0.2 & Iris-setosa \\\\\n",
       "\t10 & 4.9 & 3.1 & 1.5 & 0.1 & Iris-setosa \\\\\n",
       "\t11 & 5.4 & 3.7 & 1.5 & 0.2 & Iris-setosa \\\\\n",
       "\t12 & 4.8 & 3.4 & 1.6 & 0.2 & Iris-setosa \\\\\n",
       "\t13 & 4.8 & 3.0 & 1.4 & 0.1 & Iris-setosa \\\\\n",
       "\t14 & 4.3 & 3.0 & 1.1 & 0.1 & Iris-setosa \\\\\n",
       "\t15 & 5.8 & 4.0 & 1.2 & 0.2 & Iris-setosa \\\\\n",
       "\t16 & 5.7 & 4.4 & 1.5 & 0.4 & Iris-setosa \\\\\n",
       "\t17 & 5.4 & 3.9 & 1.3 & 0.4 & Iris-setosa \\\\\n",
       "\t18 & 5.1 & 3.5 & 1.4 & 0.3 & Iris-setosa \\\\\n",
       "\t19 & 5.7 & 3.8 & 1.7 & 0.3 & Iris-setosa \\\\\n",
       "\t20 & 5.1 & 3.8 & 1.5 & 0.3 & Iris-setosa \\\\\n",
       "\t21 & 5.4 & 3.4 & 1.7 & 0.2 & Iris-setosa \\\\\n",
       "\t22 & 5.1 & 3.7 & 1.5 & 0.4 & Iris-setosa \\\\\n",
       "\t23 & 4.6 & 3.6 & 1.0 & 0.2 & Iris-setosa \\\\\n",
       "\t24 & 5.1 & 3.3 & 1.7 & 0.5 & Iris-setosa \\\\\n",
       "\t25 & 4.8 & 3.4 & 1.9 & 0.2 & Iris-setosa \\\\\n",
       "\t26 & 5.0 & 3.0 & 1.6 & 0.2 & Iris-setosa \\\\\n",
       "\t27 & 5.0 & 3.4 & 1.6 & 0.4 & Iris-setosa \\\\\n",
       "\t28 & 5.2 & 3.5 & 1.5 & 0.2 & Iris-setosa \\\\\n",
       "\t29 & 5.2 & 3.4 & 1.4 & 0.2 & Iris-setosa \\\\\n",
       "\t30 & 4.7 & 3.2 & 1.6 & 0.2 & Iris-setosa \\\\\n",
       "\t$\\dots$ & $\\dots$ & $\\dots$ & $\\dots$ & $\\dots$ & $\\dots$ \\\\\n",
       "\\end{tabular}\n"
      ],
      "text/plain": [
       "150×5 DataFrame\n",
       "│ Row │ sepallength │ sepalwidth │ petallength │ petalwidth │ class          │\n",
       "│     │ \u001b[90mFloat64\u001b[39m     │ \u001b[90mFloat64\u001b[39m    │ \u001b[90mFloat64\u001b[39m     │ \u001b[90mFloat64\u001b[39m    │ \u001b[90mString\u001b[39m         │\n",
       "├─────┼─────────────┼────────────┼─────────────┼────────────┼────────────────┤\n",
       "│ 1   │ 5.1         │ 3.5        │ 1.4         │ 0.2        │ Iris-setosa    │\n",
       "│ 2   │ 4.9         │ 3.0        │ 1.4         │ 0.2        │ Iris-setosa    │\n",
       "│ 3   │ 4.7         │ 3.2        │ 1.3         │ 0.2        │ Iris-setosa    │\n",
       "│ 4   │ 4.6         │ 3.1        │ 1.5         │ 0.2        │ Iris-setosa    │\n",
       "│ 5   │ 5.0         │ 3.6        │ 1.4         │ 0.2        │ Iris-setosa    │\n",
       "│ 6   │ 5.4         │ 3.9        │ 1.7         │ 0.4        │ Iris-setosa    │\n",
       "│ 7   │ 4.6         │ 3.4        │ 1.4         │ 0.3        │ Iris-setosa    │\n",
       "│ 8   │ 5.0         │ 3.4        │ 1.5         │ 0.2        │ Iris-setosa    │\n",
       "│ 9   │ 4.4         │ 2.9        │ 1.4         │ 0.2        │ Iris-setosa    │\n",
       "│ 10  │ 4.9         │ 3.1        │ 1.5         │ 0.1        │ Iris-setosa    │\n",
       "⋮\n",
       "│ 140 │ 6.9         │ 3.1        │ 5.4         │ 2.1        │ Iris-virginica │\n",
       "│ 141 │ 6.7         │ 3.1        │ 5.6         │ 2.4        │ Iris-virginica │\n",
       "│ 142 │ 6.9         │ 3.1        │ 5.1         │ 2.3        │ Iris-virginica │\n",
       "│ 143 │ 5.8         │ 2.7        │ 5.1         │ 1.9        │ Iris-virginica │\n",
       "│ 144 │ 6.8         │ 3.2        │ 5.9         │ 2.3        │ Iris-virginica │\n",
       "│ 145 │ 6.7         │ 3.3        │ 5.7         │ 2.5        │ Iris-virginica │\n",
       "│ 146 │ 6.7         │ 3.0        │ 5.2         │ 2.3        │ Iris-virginica │\n",
       "│ 147 │ 6.3         │ 2.5        │ 5.0         │ 1.9        │ Iris-virginica │\n",
       "│ 148 │ 6.5         │ 3.0        │ 5.2         │ 2.0        │ Iris-virginica │\n",
       "│ 149 │ 6.2         │ 3.4        │ 5.4         │ 2.3        │ Iris-virginica │\n",
       "│ 150 │ 5.9         │ 3.0        │ 5.1         │ 1.8        │ Iris-virginica │"
      ]
     },
     "execution_count": 39,
     "metadata": {},
     "output_type": "execute_result"
    }
   ],
   "source": [
    "using CSV\n",
    "\n",
    "# DataFrames can be loaded from CSV files using CSV.read()\n",
    "iris = CSV.read(\"data/iris_csv.csv\")"
   ]
  },
  {
   "cell_type": "code",
   "execution_count": 43,
   "metadata": {},
   "outputs": [
    {
     "name": "stderr",
     "output_type": "stream",
     "text": [
      "\u001b[32m\u001b[1m  Resolving\u001b[22m\u001b[39m package versions...\n",
      "\u001b[32m\u001b[1m  Installed\u001b[22m\u001b[39m Libiconv_jll ─────── v1.16.0+5\n",
      "\u001b[32m\u001b[1m  Installed\u001b[22m\u001b[39m Mocking ──────────── v0.7.1\n",
      "\u001b[32m\u001b[1m  Installed\u001b[22m\u001b[39m ExprTools ────────── v0.1.1\n",
      "\u001b[32m\u001b[1m  Installed\u001b[22m\u001b[39m FileIO ───────────── v1.3.0\n",
      "\u001b[32m\u001b[1m  Installed\u001b[22m\u001b[39m RData ────────────── v0.7.2\n",
      "\u001b[32m\u001b[1m  Installed\u001b[22m\u001b[39m EzXML ────────────── v1.1.0\n",
      "\u001b[32m\u001b[1m  Installed\u001b[22m\u001b[39m TranscodingStreams ─ v0.9.5\n",
      "\u001b[32m\u001b[1m  Installed\u001b[22m\u001b[39m TimeZones ────────── v1.2.0\n",
      "\u001b[32m\u001b[1m  Installed\u001b[22m\u001b[39m Zlib_jll ─────────── v1.2.11+14\n",
      "\u001b[32m\u001b[1m  Installed\u001b[22m\u001b[39m CodecZlib ────────── v0.7.0\n",
      "\u001b[32m\u001b[1m  Installed\u001b[22m\u001b[39m RecipesBase ──────── v1.0.1\n",
      "\u001b[32m\u001b[1m  Installed\u001b[22m\u001b[39m XML2_jll ─────────── v2.9.10+1\n",
      "######################################################################### 100.0%##O=#  #                                                                       \n",
      "######################################################################### 100.0%##O#- #                                                                        \n",
      "######################################################################### 100.0%##O#- #                                                                        \n",
      "\u001b[32m\u001b[1m   Updating\u001b[22m\u001b[39m `~/.julia/environments/v1.4/Project.toml`\n",
      " \u001b[90m [df47a6cb]\u001b[39m\u001b[92m + RData v0.7.2\u001b[39m\n",
      "\u001b[32m\u001b[1m   Updating\u001b[22m\u001b[39m `~/.julia/environments/v1.4/Manifest.toml`\n",
      " \u001b[90m [944b1d66]\u001b[39m\u001b[92m + CodecZlib v0.7.0\u001b[39m\n",
      " \u001b[90m [e2ba6199]\u001b[39m\u001b[92m + ExprTools v0.1.1\u001b[39m\n",
      " \u001b[90m [8f5d6c58]\u001b[39m\u001b[92m + EzXML v1.1.0\u001b[39m\n",
      " \u001b[90m [5789e2e9]\u001b[39m\u001b[92m + FileIO v1.3.0\u001b[39m\n",
      " \u001b[90m [94ce4f54]\u001b[39m\u001b[92m + Libiconv_jll v1.16.0+5\u001b[39m\n",
      " \u001b[90m [78c3b35d]\u001b[39m\u001b[92m + Mocking v0.7.1\u001b[39m\n",
      " \u001b[90m [df47a6cb]\u001b[39m\u001b[92m + RData v0.7.2\u001b[39m\n",
      " \u001b[90m [3cdcf5f2]\u001b[39m\u001b[92m + RecipesBase v1.0.1\u001b[39m\n",
      " \u001b[90m [f269a46b]\u001b[39m\u001b[92m + TimeZones v1.2.0\u001b[39m\n",
      " \u001b[90m [3bb67fe8]\u001b[39m\u001b[92m + TranscodingStreams v0.9.5\u001b[39m\n",
      " \u001b[90m [02c8fc9c]\u001b[39m\u001b[92m + XML2_jll v2.9.10+1\u001b[39m\n",
      " \u001b[90m [83775a58]\u001b[39m\u001b[92m + Zlib_jll v1.2.11+14\u001b[39m\n",
      "\u001b[32m\u001b[1m   Building\u001b[22m\u001b[39m TimeZones → `~/.julia/packages/TimeZones/OjMoF/deps/build.log`\n"
     ]
    }
   ],
   "source": [
    "import Pkg; Pkg.add(\"RData\")"
   ]
  },
  {
   "cell_type": "code",
   "execution_count": 45,
   "metadata": {},
   "outputs": [
    {
     "name": "stderr",
     "output_type": "stream",
     "text": [
      "\u001b[32m\u001b[1m  Resolving\u001b[22m\u001b[39m package versions...\n",
      "\u001b[32m\u001b[1m  Installed\u001b[22m\u001b[39m RDatasets ─ v0.6.9\n",
      "\u001b[32m\u001b[1m   Updating\u001b[22m\u001b[39m `~/.julia/environments/v1.4/Project.toml`\n",
      " \u001b[90m [ce6b1742]\u001b[39m\u001b[92m + RDatasets v0.6.9\u001b[39m\n",
      "\u001b[32m\u001b[1m   Updating\u001b[22m\u001b[39m `~/.julia/environments/v1.4/Manifest.toml`\n",
      " \u001b[90m [ce6b1742]\u001b[39m\u001b[92m + RDatasets v0.6.9\u001b[39m\n"
     ]
    }
   ],
   "source": [
    "import Pkg; Pkg.add(\"RDatasets\")"
   ]
  },
  {
   "cell_type": "code",
   "execution_count": 46,
   "metadata": {},
   "outputs": [
    {
     "name": "stderr",
     "output_type": "stream",
     "text": [
      "┌ Info: Precompiling RDatasets [ce6b1742-4840-55fa-b093-852dadbb1d8b]\n",
      "└ @ Base loading.jl:1260\n"
     ]
    },
    {
     "data": {
      "text/html": [
       "<table class=\"data-frame\"><thead><tr><th></th><th>SepalLength</th><th>SepalWidth</th><th>PetalLength</th><th>PetalWidth</th><th>Species</th></tr><tr><th></th><th>Float64</th><th>Float64</th><th>Float64</th><th>Float64</th><th>Cat…</th></tr></thead><tbody><p>150 rows × 5 columns</p><tr><th>1</th><td>5.1</td><td>3.5</td><td>1.4</td><td>0.2</td><td>setosa</td></tr><tr><th>2</th><td>4.9</td><td>3.0</td><td>1.4</td><td>0.2</td><td>setosa</td></tr><tr><th>3</th><td>4.7</td><td>3.2</td><td>1.3</td><td>0.2</td><td>setosa</td></tr><tr><th>4</th><td>4.6</td><td>3.1</td><td>1.5</td><td>0.2</td><td>setosa</td></tr><tr><th>5</th><td>5.0</td><td>3.6</td><td>1.4</td><td>0.2</td><td>setosa</td></tr><tr><th>6</th><td>5.4</td><td>3.9</td><td>1.7</td><td>0.4</td><td>setosa</td></tr><tr><th>7</th><td>4.6</td><td>3.4</td><td>1.4</td><td>0.3</td><td>setosa</td></tr><tr><th>8</th><td>5.0</td><td>3.4</td><td>1.5</td><td>0.2</td><td>setosa</td></tr><tr><th>9</th><td>4.4</td><td>2.9</td><td>1.4</td><td>0.2</td><td>setosa</td></tr><tr><th>10</th><td>4.9</td><td>3.1</td><td>1.5</td><td>0.1</td><td>setosa</td></tr><tr><th>11</th><td>5.4</td><td>3.7</td><td>1.5</td><td>0.2</td><td>setosa</td></tr><tr><th>12</th><td>4.8</td><td>3.4</td><td>1.6</td><td>0.2</td><td>setosa</td></tr><tr><th>13</th><td>4.8</td><td>3.0</td><td>1.4</td><td>0.1</td><td>setosa</td></tr><tr><th>14</th><td>4.3</td><td>3.0</td><td>1.1</td><td>0.1</td><td>setosa</td></tr><tr><th>15</th><td>5.8</td><td>4.0</td><td>1.2</td><td>0.2</td><td>setosa</td></tr><tr><th>16</th><td>5.7</td><td>4.4</td><td>1.5</td><td>0.4</td><td>setosa</td></tr><tr><th>17</th><td>5.4</td><td>3.9</td><td>1.3</td><td>0.4</td><td>setosa</td></tr><tr><th>18</th><td>5.1</td><td>3.5</td><td>1.4</td><td>0.3</td><td>setosa</td></tr><tr><th>19</th><td>5.7</td><td>3.8</td><td>1.7</td><td>0.3</td><td>setosa</td></tr><tr><th>20</th><td>5.1</td><td>3.8</td><td>1.5</td><td>0.3</td><td>setosa</td></tr><tr><th>21</th><td>5.4</td><td>3.4</td><td>1.7</td><td>0.2</td><td>setosa</td></tr><tr><th>22</th><td>5.1</td><td>3.7</td><td>1.5</td><td>0.4</td><td>setosa</td></tr><tr><th>23</th><td>4.6</td><td>3.6</td><td>1.0</td><td>0.2</td><td>setosa</td></tr><tr><th>24</th><td>5.1</td><td>3.3</td><td>1.7</td><td>0.5</td><td>setosa</td></tr><tr><th>25</th><td>4.8</td><td>3.4</td><td>1.9</td><td>0.2</td><td>setosa</td></tr><tr><th>26</th><td>5.0</td><td>3.0</td><td>1.6</td><td>0.2</td><td>setosa</td></tr><tr><th>27</th><td>5.0</td><td>3.4</td><td>1.6</td><td>0.4</td><td>setosa</td></tr><tr><th>28</th><td>5.2</td><td>3.5</td><td>1.5</td><td>0.2</td><td>setosa</td></tr><tr><th>29</th><td>5.2</td><td>3.4</td><td>1.4</td><td>0.2</td><td>setosa</td></tr><tr><th>30</th><td>4.7</td><td>3.2</td><td>1.6</td><td>0.2</td><td>setosa</td></tr><tr><th>&vellip;</th><td>&vellip;</td><td>&vellip;</td><td>&vellip;</td><td>&vellip;</td><td>&vellip;</td></tr></tbody></table>"
      ],
      "text/latex": [
       "\\begin{tabular}{r|ccccc}\n",
       "\t& SepalLength & SepalWidth & PetalLength & PetalWidth & Species\\\\\n",
       "\t\\hline\n",
       "\t& Float64 & Float64 & Float64 & Float64 & Cat…\\\\\n",
       "\t\\hline\n",
       "\t1 & 5.1 & 3.5 & 1.4 & 0.2 & setosa \\\\\n",
       "\t2 & 4.9 & 3.0 & 1.4 & 0.2 & setosa \\\\\n",
       "\t3 & 4.7 & 3.2 & 1.3 & 0.2 & setosa \\\\\n",
       "\t4 & 4.6 & 3.1 & 1.5 & 0.2 & setosa \\\\\n",
       "\t5 & 5.0 & 3.6 & 1.4 & 0.2 & setosa \\\\\n",
       "\t6 & 5.4 & 3.9 & 1.7 & 0.4 & setosa \\\\\n",
       "\t7 & 4.6 & 3.4 & 1.4 & 0.3 & setosa \\\\\n",
       "\t8 & 5.0 & 3.4 & 1.5 & 0.2 & setosa \\\\\n",
       "\t9 & 4.4 & 2.9 & 1.4 & 0.2 & setosa \\\\\n",
       "\t10 & 4.9 & 3.1 & 1.5 & 0.1 & setosa \\\\\n",
       "\t11 & 5.4 & 3.7 & 1.5 & 0.2 & setosa \\\\\n",
       "\t12 & 4.8 & 3.4 & 1.6 & 0.2 & setosa \\\\\n",
       "\t13 & 4.8 & 3.0 & 1.4 & 0.1 & setosa \\\\\n",
       "\t14 & 4.3 & 3.0 & 1.1 & 0.1 & setosa \\\\\n",
       "\t15 & 5.8 & 4.0 & 1.2 & 0.2 & setosa \\\\\n",
       "\t16 & 5.7 & 4.4 & 1.5 & 0.4 & setosa \\\\\n",
       "\t17 & 5.4 & 3.9 & 1.3 & 0.4 & setosa \\\\\n",
       "\t18 & 5.1 & 3.5 & 1.4 & 0.3 & setosa \\\\\n",
       "\t19 & 5.7 & 3.8 & 1.7 & 0.3 & setosa \\\\\n",
       "\t20 & 5.1 & 3.8 & 1.5 & 0.3 & setosa \\\\\n",
       "\t21 & 5.4 & 3.4 & 1.7 & 0.2 & setosa \\\\\n",
       "\t22 & 5.1 & 3.7 & 1.5 & 0.4 & setosa \\\\\n",
       "\t23 & 4.6 & 3.6 & 1.0 & 0.2 & setosa \\\\\n",
       "\t24 & 5.1 & 3.3 & 1.7 & 0.5 & setosa \\\\\n",
       "\t25 & 4.8 & 3.4 & 1.9 & 0.2 & setosa \\\\\n",
       "\t26 & 5.0 & 3.0 & 1.6 & 0.2 & setosa \\\\\n",
       "\t27 & 5.0 & 3.4 & 1.6 & 0.4 & setosa \\\\\n",
       "\t28 & 5.2 & 3.5 & 1.5 & 0.2 & setosa \\\\\n",
       "\t29 & 5.2 & 3.4 & 1.4 & 0.2 & setosa \\\\\n",
       "\t30 & 4.7 & 3.2 & 1.6 & 0.2 & setosa \\\\\n",
       "\t$\\dots$ & $\\dots$ & $\\dots$ & $\\dots$ & $\\dots$ & $\\dots$ \\\\\n",
       "\\end{tabular}\n"
      ],
      "text/plain": [
       "150×5 DataFrame\n",
       "│ Row │ SepalLength │ SepalWidth │ PetalLength │ PetalWidth │ Species   │\n",
       "│     │ \u001b[90mFloat64\u001b[39m     │ \u001b[90mFloat64\u001b[39m    │ \u001b[90mFloat64\u001b[39m     │ \u001b[90mFloat64\u001b[39m    │ \u001b[90mCat…\u001b[39m      │\n",
       "├─────┼─────────────┼────────────┼─────────────┼────────────┼───────────┤\n",
       "│ 1   │ 5.1         │ 3.5        │ 1.4         │ 0.2        │ setosa    │\n",
       "│ 2   │ 4.9         │ 3.0        │ 1.4         │ 0.2        │ setosa    │\n",
       "│ 3   │ 4.7         │ 3.2        │ 1.3         │ 0.2        │ setosa    │\n",
       "│ 4   │ 4.6         │ 3.1        │ 1.5         │ 0.2        │ setosa    │\n",
       "│ 5   │ 5.0         │ 3.6        │ 1.4         │ 0.2        │ setosa    │\n",
       "│ 6   │ 5.4         │ 3.9        │ 1.7         │ 0.4        │ setosa    │\n",
       "│ 7   │ 4.6         │ 3.4        │ 1.4         │ 0.3        │ setosa    │\n",
       "│ 8   │ 5.0         │ 3.4        │ 1.5         │ 0.2        │ setosa    │\n",
       "│ 9   │ 4.4         │ 2.9        │ 1.4         │ 0.2        │ setosa    │\n",
       "│ 10  │ 4.9         │ 3.1        │ 1.5         │ 0.1        │ setosa    │\n",
       "⋮\n",
       "│ 140 │ 6.9         │ 3.1        │ 5.4         │ 2.1        │ virginica │\n",
       "│ 141 │ 6.7         │ 3.1        │ 5.6         │ 2.4        │ virginica │\n",
       "│ 142 │ 6.9         │ 3.1        │ 5.1         │ 2.3        │ virginica │\n",
       "│ 143 │ 5.8         │ 2.7        │ 5.1         │ 1.9        │ virginica │\n",
       "│ 144 │ 6.8         │ 3.2        │ 5.9         │ 2.3        │ virginica │\n",
       "│ 145 │ 6.7         │ 3.3        │ 5.7         │ 2.5        │ virginica │\n",
       "│ 146 │ 6.7         │ 3.0        │ 5.2         │ 2.3        │ virginica │\n",
       "│ 147 │ 6.3         │ 2.5        │ 5.0         │ 1.9        │ virginica │\n",
       "│ 148 │ 6.5         │ 3.0        │ 5.2         │ 2.0        │ virginica │\n",
       "│ 149 │ 6.2         │ 3.4        │ 5.4         │ 2.3        │ virginica │\n",
       "│ 150 │ 5.9         │ 3.0        │ 5.1         │ 1.8        │ virginica │"
      ]
     },
     "execution_count": 46,
     "metadata": {},
     "output_type": "execute_result"
    }
   ],
   "source": [
    "# the iris dataset (and plenty of others) is also available from\n",
    "using RData, RDatasets\n",
    "iris2 = dataset(\"datasets\",\"iris\")"
   ]
  },
  {
   "cell_type": "markdown",
   "metadata": {},
   "source": [
    "Showing Dataframes\n",
    "---"
   ]
  },
  {
   "cell_type": "code",
   "execution_count": 41,
   "metadata": {},
   "outputs": [
    {
     "ename": "UndefVarError",
     "evalue": "UndefVarError: showln not defined",
     "output_type": "error",
     "traceback": [
      "UndefVarError: showln not defined",
      "",
      "Stacktrace:",
      " [1] top-level scope at In[41]:1"
     ]
    }
   ],
   "source": [
    "\n",
    "# Subset the DataFrame to only include rows for one species\n",
    "showln(iris[iris[!, :Species] .== \"setosa\", :])\n",
    "\n",
    "# Count the number of rows for each species\n",
    "showln(by(iris, :Species, df -> size(df, 1)))\n",
    "\n",
    "# Discretize entire columns at a time\n",
    "iris[!, :SepalLength] = round.(Integer, iris[!, :SepalLength])\n",
    "iris[!, :SepalWidth] = round.(Integer, iris[!, :SepalWidth])\n",
    "\n",
    "\n",
    "# Tabulate data according to discretized columns to see \"clusters\"\n",
    "tabulated = by(\n",
    "    iris,\n",
    "    [:Species, :SepalLength, :SepalWidth],\n",
    "    df -> size(df, 1)\n",
    ")\n",
    "showln(tabulated)\n",
    "\n",
    "\n",
    "# you can setup a grouped dataframe like this\n",
    "gdf = groupby(iris,[:Species, :SepalLength, :SepalWidth])\n",
    "\n",
    "# and then iterate over it\n",
    "for idf in gdf\n",
    "    println(size(idf,1))\n",
    "end\n",
    "\n",
    "# Adding/Removing columns\n",
    "# -----------------------\n",
    "\n",
    "# insert!(df::DataFrame,index::Int64,item::AbstractArray{T,1},name::Symbol)\n",
    "# insert random numbers at col 5:\n",
    "insertcols!(iris, 5, :randCol => rand(nrow(iris)))\n",
    "\n",
    "# remove it\n",
    "select!(iris, Not(:randCol))"
   ]
  },
  {
   "cell_type": "markdown",
   "metadata": {
    "collapsed": true
   },
   "source": [
    "- - - \n",
    "<!--NAVIGATION-->\n",
    "Module 17. [Overview](./00_julia_overview.ipynb) | [Getting Started](./01_julia_started.ipynb) | **[Commands](./02_julia_commands.ipynb)** | [Package: Gadfly](./03_julia_gadfly.ipynb)"
   ]
  },
  {
   "cell_type": "markdown",
   "metadata": {},
   "source": [
    "- - -\n",
    "\n",
    "Copyright © 2020 Qualex Consulting Services Incorporated."
   ]
  },
  {
   "cell_type": "code",
   "execution_count": null,
   "metadata": {},
   "outputs": [],
   "source": []
  }
 ],
 "metadata": {
  "kernelspec": {
   "display_name": "Julia 1.4.2",
   "language": "julia",
   "name": "julia-1.4"
  },
  "language_info": {
   "file_extension": ".jl",
   "mimetype": "application/julia",
   "name": "julia",
   "version": "1.4.2"
  }
 },
 "nbformat": 4,
 "nbformat_minor": 1
}
